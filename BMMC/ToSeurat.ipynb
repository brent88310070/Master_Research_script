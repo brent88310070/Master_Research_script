{
 "cells": [
  {
   "cell_type": "code",
   "execution_count": 21,
   "id": "4c3c1fee",
   "metadata": {},
   "outputs": [],
   "source": [
    "import numpy as np\n",
    "import pandas as pd\n",
    "import scanpy as sc\n",
    "from scipy import io"
   ]
  },
  {
   "cell_type": "code",
   "execution_count": 3,
   "id": "2a5e181f",
   "metadata": {},
   "outputs": [],
   "source": [
    "YourPathway = \"/YourPathway\""
   ]
  },
  {
   "cell_type": "code",
   "execution_count": 4,
   "id": "613eacc9",
   "metadata": {},
   "outputs": [],
   "source": [
    "BMMC = sc.read_h5ad(\"%s/GSE194122_openproblems_neurips2021_multiome_BMMC_processed.h5ad\" %(YourPathway))"
   ]
  },
  {
   "cell_type": "code",
   "execution_count": 5,
   "id": "097c0345",
   "metadata": {},
   "outputs": [
    {
     "data": {
      "text/plain": [
       "AnnData object with n_obs × n_vars = 69249 × 129921\n",
       "    obs: 'GEX_pct_counts_mt', 'GEX_n_counts', 'GEX_n_genes', 'GEX_size_factors', 'GEX_phase', 'ATAC_nCount_peaks', 'ATAC_atac_fragments', 'ATAC_reads_in_peaks_frac', 'ATAC_blacklist_fraction', 'ATAC_nucleosome_signal', 'cell_type', 'batch', 'ATAC_pseudotime_order', 'GEX_pseudotime_order', 'Samplename', 'Site', 'DonorNumber', 'Modality', 'VendorLot', 'DonorID', 'DonorAge', 'DonorBMI', 'DonorBloodType', 'DonorRace', 'Ethnicity', 'DonorGender', 'QCMeds', 'DonorSmoker'\n",
       "    var: 'feature_types', 'gene_id'\n",
       "    uns: 'ATAC_gene_activity_var_names', 'dataset_id', 'genome', 'organism'\n",
       "    obsm: 'ATAC_gene_activity', 'ATAC_lsi_full', 'ATAC_lsi_red', 'ATAC_umap', 'GEX_X_pca', 'GEX_X_umap'\n",
       "    layers: 'counts'"
      ]
     },
     "execution_count": 5,
     "metadata": {},
     "output_type": "execute_result"
    }
   ],
   "source": [
    "BMMC"
   ]
  },
  {
   "cell_type": "markdown",
   "id": "681fd01e",
   "metadata": {},
   "source": [
    "### RNA"
   ]
  },
  {
   "cell_type": "markdown",
   "id": "7ac78f23",
   "metadata": {},
   "source": [
    "##### Save Barcode"
   ]
  },
  {
   "cell_type": "code",
   "execution_count": 52,
   "id": "5c0cac16",
   "metadata": {},
   "outputs": [],
   "source": [
    "with open('%s/BMMC/RNA/barcodes.tsv' %(YourPathway), 'w') as f:\n",
    "    for item in BMMC.obs_names:\n",
    "        f.write(item + '\\n')"
   ]
  },
  {
   "cell_type": "markdown",
   "id": "326b8ab0",
   "metadata": {},
   "source": [
    "##### Save Feature"
   ]
  },
  {
   "cell_type": "code",
   "execution_count": 14,
   "id": "d0a7111d",
   "metadata": {},
   "outputs": [
    {
     "data": {
      "text/plain": [
       "13431"
      ]
     },
     "execution_count": 14,
     "metadata": {},
     "output_type": "execute_result"
    }
   ],
   "source": [
    "RNA_Feature_len = len(BMMC.var[BMMC.var['feature_types']==\"GEX\"].index)\n",
    "RNA_Feature_len"
   ]
  },
  {
   "cell_type": "code",
   "execution_count": 58,
   "id": "b57fd1a4",
   "metadata": {},
   "outputs": [],
   "source": [
    "with open('%s/RNA/features.tsv' %(YourPathway), 'w') as f:\n",
    "    for item in BMMC.var[BMMC.var['feature_types']==\"GEX\"].index:\n",
    "        f.write(item + '\\n')"
   ]
  },
  {
   "cell_type": "markdown",
   "id": "836e8bf5",
   "metadata": {},
   "source": [
    "##### Save RNA matrix"
   ]
  },
  {
   "cell_type": "code",
   "execution_count": 63,
   "id": "089ece3f",
   "metadata": {},
   "outputs": [],
   "source": [
    "io.mmwrite('%s/RNA/matrix' %(YourPathway), BMMC.X.T[:RNA_Feature_len,:])"
   ]
  },
  {
   "cell_type": "code",
   "execution_count": 64,
   "id": "fc9ee9a4",
   "metadata": {},
   "outputs": [],
   "source": [
    "!gzip /YourPathway/RNA/*"
   ]
  },
  {
   "cell_type": "markdown",
   "id": "abe1a229",
   "metadata": {},
   "source": [
    "### ATAC\n",
    "##### Save Barcode"
   ]
  },
  {
   "cell_type": "code",
   "execution_count": 6,
   "id": "07ee0d91",
   "metadata": {},
   "outputs": [],
   "source": [
    "with open('%s/ATAC/barcodes.tsv' %(YourPathway), 'w') as f:\n",
    "    for item in BMMC.obs_names:\n",
    "        f.write(item + '\\n')"
   ]
  },
  {
   "cell_type": "markdown",
   "id": "dd6b5044",
   "metadata": {},
   "source": [
    "##### Save Feature"
   ]
  },
  {
   "cell_type": "code",
   "execution_count": 10,
   "id": "a36c329f",
   "metadata": {},
   "outputs": [
    {
     "data": {
      "text/plain": [
       "116490"
      ]
     },
     "execution_count": 10,
     "metadata": {},
     "output_type": "execute_result"
    }
   ],
   "source": [
    "len(BMMC.var[BMMC.var['feature_types']==\"ATAC\"].index)"
   ]
  },
  {
   "cell_type": "code",
   "execution_count": 26,
   "id": "17a67132",
   "metadata": {},
   "outputs": [],
   "source": [
    "with open('%s/ATAC/features.tsv' %(YourPathway), 'w') as f:\n",
    "    for item in BMMC.var['feature_types'][RNA_Feature_len:,].index:\n",
    "        f.write(item + '\\n')"
   ]
  },
  {
   "cell_type": "markdown",
   "id": "28f454b9",
   "metadata": {},
   "source": [
    "##### Save ATAC matrix"
   ]
  },
  {
   "cell_type": "code",
   "execution_count": 31,
   "id": "8a93bfba",
   "metadata": {},
   "outputs": [],
   "source": [
    "io.mmwrite('%s/ATAC/matrix' %(YourPathway), BMMC.layers['counts'].T[RNA_Feature_len:,:])"
   ]
  },
  {
   "cell_type": "code",
   "execution_count": 33,
   "id": "4e4d4d70",
   "metadata": {},
   "outputs": [],
   "source": [
    "!gzip /YourPathway/ATAC/*"
   ]
  },
  {
   "cell_type": "markdown",
   "id": "2ce66f02",
   "metadata": {},
   "source": [
    "### Save MetaData"
   ]
  },
  {
   "cell_type": "code",
   "execution_count": 32,
   "id": "6b87ea99",
   "metadata": {},
   "outputs": [],
   "source": [
    "BMMC.obs.to_csv('%s/meta/metadata.csv' %(YourPathway))"
   ]
  },
  {
   "cell_type": "markdown",
   "id": "16fdf177",
   "metadata": {},
   "source": [
    "### Save Lsi, PCA and UMAP"
   ]
  },
  {
   "cell_type": "code",
   "execution_count": 24,
   "id": "f95f2190",
   "metadata": {},
   "outputs": [],
   "source": [
    "np.savetxt('%s/meta/ATAC_lsi_full.txt' %(YourPathway), BMMC.obsm['ATAC_lsi_full'], delimiter='\\t')\n",
    "np.savetxt('%s/meta/ATAC_lsi_red.txt' %(YourPathway), BMMC.obsm['ATAC_lsi_red'], delimiter='\\t')\n",
    "np.savetxt('%s/meta/GEX_X_pca.txt' %(YourPathway), BMMC.obsm['GEX_X_pca'], delimiter='\\t')\n",
    "np.savetxt('%s/meta/ATAC_umap.txt' %(YourPathway), BMMC.obsm['ATAC_umap'], delimiter='\\t')\n",
    "np.savetxt('%s/meta/GEX_X_umap.txt' %(YourPathway), BMMC.obsm['GEX_X_umap'], delimiter='\\t')"
   ]
  },
  {
   "cell_type": "code",
   "execution_count": null,
   "id": "69e4bf15",
   "metadata": {},
   "outputs": [],
   "source": []
  }
 ],
 "metadata": {
  "kernelspec": {
   "display_name": "Python 3.8.12 ('base')",
   "language": "python",
   "name": "python3"
  },
  "language_info": {
   "codemirror_mode": {
    "name": "ipython",
    "version": 3
   },
   "file_extension": ".py",
   "mimetype": "text/x-python",
   "name": "python",
   "nbconvert_exporter": "python",
   "pygments_lexer": "ipython3",
   "version": "3.8.12"
  },
  "vscode": {
   "interpreter": {
    "hash": "aebef1ce41e658e33717f8afc57d70a80ad0bb9979a6bd778402673af2de7689"
   }
  }
 },
 "nbformat": 4,
 "nbformat_minor": 5
}
